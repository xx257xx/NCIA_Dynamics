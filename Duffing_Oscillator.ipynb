{
 "cells": [
  {
   "cell_type": "code",
   "execution_count": 1,
   "id": "e003d43a-f74a-4360-aa24-d4aefd37d47c",
   "metadata": {},
   "outputs": [],
   "source": [
    "import numpy as np\n",
    "from scipy.integrate import odeint, quad\n",
    "from scipy.optimize import brentq\n",
    "import matplotlib.pyplot as plt\n",
    "from matplotlib import animation, rc\n",
    "import seaborn as sbs\n",
    "\n",
    "\n",
    "# The potential and its first derivative, as callables.\n",
    "V = lambda x: 0.5 * x**2 * (0.5 * x**2 - 1)\n",
    "dVdx = lambda x: x**3 - x\n",
    "\n",
    "\n",
    "\n",
    "def deriv(X, t, gamma, delta, omega):\n",
    "    \"\"\"Return the derivatives dx/dt and d2x/dt2.\"\"\"\n",
    "\n",
    "    x, xdot = X\n",
    "    xdotdot = -dVdx(x) -delta * xdot + gamma * np.cos(omega*t)\n",
    "    return xdot, xdotdot\n",
    "\n",
    "def solve_duffing(tmax, dt_per_period, t_trans, x0, v0, gamma, delta, omega):\n",
    "    \"\"\"Solve the Duffing equation for parameters gamma, delta, omega.\n",
    "\n",
    "    Find the numerical solution to the Duffing equation using a suitable\n",
    "    time grid: tmax is the maximum time (s) to integrate to; t_trans is\n",
    "    the initial time period of transient behaviour until the solution\n",
    "    settles down (if it does) to some kind of periodic motion (these data\n",
    "    points are dropped) and dt_per_period is the number of time samples\n",
    "    (of duration dt) to include per period of the driving motion (frequency\n",
    "    omega).\n",
    "\n",
    "    Returns the time grid, t (after t_trans), position, x, and velocity,\n",
    "    xdot, dt, and step, the number of array points per period of the driving\n",
    "    motion.\n",
    "\n",
    "    \"\"\"\n",
    "    # Time point spacings and the time grid\n",
    "\n",
    "    period = 2*np.pi/omega\n",
    "    dt = 2*np.pi/omega / dt_per_period\n",
    "    step = int(period / dt)\n",
    "    t = np.arange(0, tmax, dt)\n",
    "    # Initial conditions: x, xdot\n",
    "    X0 = [x0, v0]\n",
    "    X = odeint(deriv, X0, t, args=(gamma, delta, omega))\n",
    "    idx = int(t_trans / dt)\n",
    "    return t[idx:], X[idx:], dt, step\n",
    "\n",
    "# Set up the motion for a oscillator with initial position\n",
    "# x0 and initially at rest.\n",
    "x0, v0 = 0, 0\n",
    "tmax, t_trans = 18000, 300\n",
    "omega = 1.4\n",
    "gamma, delta = 0.39, 0.1\n",
    "dt_per_period = 100\n",
    "\n",
    "# Solve the equation of motion.\n",
    "t, X, dt, pstep = solve_duffing(tmax, dt_per_period, t_trans, x0, v0, gamma, delta, omega)\n",
    "x, xdot = X.T\n",
    "\n"
   ]
  },
  {
   "cell_type": "code",
   "execution_count": 5,
   "id": "ea6c017c-41e3-44c2-aca7-7263e458772b",
   "metadata": {},
   "outputs": [
    {
     "data": {
      "text/plain": [
       "[<matplotlib.lines.Line2D at 0x229e834f7f0>]"
      ]
     },
     "execution_count": 5,
     "metadata": {},
     "output_type": "execute_result"
    },
    {
     "data": {
      "image/png": "[encoded data removed]",
      "text/plain": [
       "<Figure size 432x288 with 1 Axes>"
      ]
     },
     "metadata": {
      "needs_background": "light"
     },
     "output_type": "display_data"
    }
   ],
   "source": [
    "plt.plot(t,xdot)"
   ]
  },
  {
   "cell_type": "code",
   "execution_count": null,
   "id": "942849fa-ceac-4f96-b236-2845f79c56a4",
   "metadata": {},
   "outputs": [],
   "source": []
  }
 ],
 "metadata": {
  "kernelspec": {
   "display_name": "Python 3 (ipykernel)",
   "language": "python",
   "name": "python3"
  },
  "language_info": {
   "codemirror_mode": {
    "name": "ipython",
    "version": 3
   },
   "file_extension": ".py",
   "mimetype": "text/x-python",
   "name": "python",
   "nbconvert_exporter": "python",
   "pygments_lexer": "ipython3",
   "version": "3.9.6"
  }
 },
 "nbformat": 4,
 "nbformat_minor": 5
}
